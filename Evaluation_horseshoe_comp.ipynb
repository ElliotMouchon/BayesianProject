{
 "cells": [
  {
   "cell_type": "code",
   "execution_count": 1,
   "id": "bdeddab6-6e90-4656-b220-445539b47ee5",
   "metadata": {},
   "outputs": [
    {
     "name": "stderr",
     "output_type": "stream",
     "text": [
      "WARNING (theano.tensor.blas): Using NumPy C-API based implementation for BLAS functions.\n"
     ]
    }
   ],
   "source": [
    "import numpy as np\n",
    "import matplotlib.pyplot as plt\n",
    "import pickle\n",
    "import os\n",
    "from PIL import Image\n",
    "import arviz as az\n",
    "from tools import img_slice\n",
    "from Horseshoe_img_comp import Horseshoe_img_comp\n",
    "from sklearn.linear_model import LinearRegression\n",
    "from sklearn.metrics import mean_squared_error as mse"
   ]
  },
  {
   "cell_type": "markdown",
   "id": "c11f4e4c-4b28-48fa-b420-23dca9045fd8",
   "metadata": {},
   "source": [
    "# Evaluation of the Horseshoe compression method"
   ]
  },
  {
   "cell_type": "code",
   "execution_count": 2,
   "id": "81a9e51e-449e-4ebb-8fce-53ff11488fce",
   "metadata": {},
   "outputs": [],
   "source": [
    "block_size = 5 # e.g. 8 means that that 8 x 8 blocks will be considered like in jpeg.\n",
    "hic = Horseshoe_img_comp(block_size)"
   ]
  },
  {
   "cell_type": "markdown",
   "id": "f4da3a37-2e98-47e4-a635-7bebaf8632fb",
   "metadata": {},
   "source": [
    "## Computing the intensity basis"
   ]
  },
  {
   "cell_type": "code",
   "execution_count": 3,
   "id": "86b9036c-c153-483b-81a7-5b5140cdb148",
   "metadata": {},
   "outputs": [],
   "source": [
    "intensity_basis = hic.compute_basis_intensity_matrix()\n",
    "intensity_basis = intensity_basis[1:] # The average component (the first one) is dealt with apart"
   ]
  },
  {
   "cell_type": "markdown",
   "id": "99a9af64-1cb6-4ed9-8568-5264f2382d02",
   "metadata": {},
   "source": [
    "## Computing linear-regression-based compression"
   ]
  },
  {
   "cell_type": "code",
   "execution_count": 4,
   "id": "626e5770-3251-4002-b654-be82b63dead9",
   "metadata": {},
   "outputs": [
    {
     "data": {
      "image/png": "[encoded data removed]",
      "text/plain": [
       "<Figure size 432x288 with 1 Axes>"
      ]
     },
     "metadata": {
      "needs_background": "light"
     },
     "output_type": "display_data"
    }
   ],
   "source": [
    "tif_pil = Image.open('images/ucid00652_small.tif').convert('L') # Greyscale image\n",
    "tif_arr = np.array(tif_pil)\n",
    "dim_x, dim_y = tif_arr.shape\n",
    "tif_arr = tif_arr[:dim_x - dim_x % 5,:dim_y - dim_y % 5] # Making sure the image has dimensions multiples of block_size\n",
    "plt.imshow(tif_arr, cmap=\"gray\", vmin=0, vmax=255)\n",
    "plt.show()"
   ]
  },
  {
   "cell_type": "code",
   "execution_count": 5,
   "id": "c0c4f16b-3e7e-4bae-8712-bfab0044cda8",
   "metadata": {},
   "outputs": [],
   "source": [
    "height_in_blocks = int(tif_arr.shape[0] / block_size)\n",
    "width_in_blocks = int(tif_arr.shape[1] / block_size)"
   ]
  },
  {
   "cell_type": "code",
   "execution_count": 6,
   "id": "8cce99ba-91f1-4eb9-abbe-1f425c9abbdb",
   "metadata": {},
   "outputs": [],
   "source": [
    "sliced_img = img_slice(tif_arr, block_size)\n",
    "compressed_blocks = []\n",
    "all_coefs_save = []"
   ]
  },
  {
   "cell_type": "code",
   "execution_count": 7,
   "id": "6912823f-630a-4da8-8339-e2886858e69a",
   "metadata": {},
   "outputs": [],
   "source": [
    "lin_comp_blocks = []\n",
    "lin_comp_coefs = []\n",
    "X = intensity_basis\n",
    "\n",
    "for block in sliced_img:\n",
    "    y = block.flatten()\n",
    "    avg_block = np.mean(y)\n",
    "    linReg = LinearRegression(fit_intercept=False)\n",
    "    linReg.fit(X.T, y - avg_block)\n",
    "    lin_comp_coefs.append(linReg.coef_)\n",
    "    lin_comp_blocks.append((linReg.coef_ @ X).reshape(block_size, block_size) + avg_block)"
   ]
  },
  {
   "cell_type": "markdown",
   "id": "f69de2fe-6b28-4f32-8306-cbc44c8999af",
   "metadata": {},
   "source": [
    "## Importing coefficients from the Horseshoe compression"
   ]
  },
  {
   "cell_type": "code",
   "execution_count": 8,
   "id": "66ced2c1-d921-4442-8abb-5fbd21648d8b",
   "metadata": {},
   "outputs": [],
   "source": [
    "hs_comp_coefs = []\n",
    "for line_nb in range(1,8):\n",
    "    with open(f\"saves/coefs_line{line_nb}.pckl\", \"rb\") as save_file:\n",
    "        p = pickle.Unpickler(save_file)\n",
    "        hs_coefs = p.load()\n",
    "    hs_comp_coefs += hs_coefs"
   ]
  },
  {
   "cell_type": "markdown",
   "id": "25b2e141-167a-4b25-9f9d-7b4839d7142c",
   "metadata": {},
   "source": [
    "## Computing the MSE with respect to the original image"
   ]
  },
  {
   "cell_type": "markdown",
   "id": "257e722c-f686-4fd0-af7f-8b558fb0662e",
   "metadata": {},
   "source": [
    "Computing the MSE with respect to the original image depending on the chosen number of remaining non-zero coefficients for both the linear and the Horseshoe methods."
   ]
  },
  {
   "cell_type": "code",
   "execution_count": 17,
   "id": "5813e112-26f8-4f9d-893f-102b040541b8",
   "metadata": {},
   "outputs": [],
   "source": [
    "mse_list_lin = []\n",
    "mse_list_hs = []\n",
    "\n",
    "for i in range(1, block_size ** 2 - 1):\n",
    "    comp_block_list_lin = [] # Will contain the blocks compressed via linear method\n",
    "    comp_block_list_hs = []  # Will contain the blocks compressed via horseshoe method\n",
    "    \n",
    "    ### Iterating over coefficients and original blocks\n",
    "    for coef_vect_lin, coef_vect_hs, block in zip(lin_comp_coefs, hs_comp_coefs, sliced_img):\n",
    "        avg_block = np.mean(block)\n",
    "        \n",
    "        ### Sorting coefficients by decreasing absolute value while keeping track of their original order\n",
    "        sort_coefs_lin = np.zeros((2, block_size ** 2 - 1))\n",
    "        sort_coefs_hs = np.zeros((2, block_size ** 2 - 1))\n",
    "\n",
    "        sort_coefs_lin[1] = np.arange(0, block_size ** 2 - 1)\n",
    "        sort_coefs_hs[1] = np.arange(0, block_size ** 2 - 1)\n",
    "\n",
    "        sort_coefs_lin[0] = coef_vect_lin.copy()\n",
    "        sort_coefs_hs[0] = coef_vect_hs.copy()\n",
    "\n",
    "        sorted_coefs_lin = sort_coefs_lin[:,np.flip(np.abs(sort_coefs_lin[0]).argsort())]\n",
    "        sorted_coefs_hs = sort_coefs_hs[:,np.flip(np.abs(sort_coefs_hs[0]).argsort())]\n",
    "\n",
    "        \n",
    "        \n",
    "        thres_coefs_vect_lin = coef_vect_lin.copy() # Will contain thresholded linear coefficients\n",
    "        thres_coefs_vect_hs = coef_vect_hs.copy()   # Will contain thresholded horseshoe coefficients\n",
    "        \n",
    "        ### keeping only the ith most significant components and putting the rest to 0.\n",
    "        zero_indices_lin = sorted_coefs_lin[1, i:].astype(int)\n",
    "        zero_indices_hs = sorted_coefs_hs[1, i:].astype(int)\n",
    "        \n",
    "        thres_coefs_vect_lin[zero_indices_lin] = 0\n",
    "        thres_coefs_vect_hs[zero_indices_hs] = 0\n",
    "\n",
    "        ### Reconstruction the compressed blocks using thresholded coefficient vectors\n",
    "        reconst_lin = (thres_coefs_vect_lin @ intensity_basis).astype(int)  # Reconstructing a compressed block via linear method\n",
    "        reconst_hs = (thres_coefs_vect_hs @ intensity_basis).astype(int)    # Reconstructing a compressed block via horseshoe method\n",
    "        \n",
    "        ### Adding the mean components\n",
    "        reconst_lin += int(avg_block)\n",
    "        reconst_hs += int(avg_block)\n",
    "        \n",
    "        comp_block_list_lin.append(reconst_lin.reshape(block_size, block_size))\n",
    "        comp_block_list_hs.append(reconst_hs.reshape(block_size, block_size))\n",
    "        \n",
    "    ### Computing the mse for i non-zero components\n",
    "    mse_list_lin.append(mse(np.hstack(comp_block_list_lin), np.hstack(sliced_img)))\n",
    "    mse_list_hs.append(mse(np.hstack(comp_block_list_hs), np.hstack(sliced_img)))"
   ]
  },
  {
   "cell_type": "markdown",
   "id": "e6c388c4-bb08-4d5c-9bbc-8dbe4efab3fe",
   "metadata": {},
   "source": [
    "## Displaying the comparison"
   ]
  },
  {
   "cell_type": "code",
   "execution_count": 18,
   "id": "37f7cc87-9570-49c2-9e83-e8e3fe79c521",
   "metadata": {},
   "outputs": [
    {
     "data": {
      "image/png": "[encoded data removed]",
      "text/plain": [
       "<Figure size 432x288 with 1 Axes>"
      ]
     },
     "metadata": {
      "needs_background": "light"
     },
     "output_type": "display_data"
    }
   ],
   "source": [
    "plt.plot(range(1, block_size ** 2 - 1), mse_list_hs, label=\"Horseshoe method\")\n",
    "plt.plot(range(1, block_size ** 2 - 1), mse_list_lin, label=\"Linear regression method\")\n",
    "plt.title(\"Comparison of MSE of linear regression and horseshoe compression on the LEGO image\")\n",
    "plt.xlabel(\"Number of non-zero coefficients\")\n",
    "plt.ylabel(\"MSE\")\n",
    "plt.legend()\n",
    "plt.show()"
   ]
  },
  {
   "cell_type": "markdown",
   "id": "47a867e1-6945-42df-a419-727e94cd6ef0",
   "metadata": {},
   "source": [
    "As expected, the Horseshoe method performs better with less coefficients.  \n",
    "\n",
    "However, it is not as good as the linear method when considering many coefficient. This makes sense: the linear problem consisting in expressing a 5 x 5 block in the intensity basis has an exact solution, found by the linear regression. The sparse solution is therefore not as good when considering all (or most) coefficients.  \n",
    "\n",
    "As a conslusion, the horseshoe method performs better (at least on this image) than a standard feature selection when compressing a lot."
   ]
  },
  {
   "cell_type": "code",
   "execution_count": null,
   "id": "1050646e-d9bb-44c4-9b71-fbe5befb569d",
   "metadata": {},
   "outputs": [],
   "source": []
  }
 ],
 "metadata": {
  "kernelspec": {
   "display_name": "Python 3 (ipykernel)",
   "language": "python",
   "name": "python3"
  },
  "language_info": {
   "codemirror_mode": {
    "name": "ipython",
    "version": 3
   },
   "file_extension": ".py",
   "mimetype": "text/x-python",
   "name": "python",
   "nbconvert_exporter": "python",
   "pygments_lexer": "ipython3",
   "version": "3.9.7"
  }
 },
 "nbformat": 4,
 "nbformat_minor": 5
}
