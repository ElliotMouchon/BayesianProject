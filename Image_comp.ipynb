{
 "cells": [
  {
   "cell_type": "code",
   "execution_count": 1,
   "id": "9c46121e-7956-445d-adea-3197115cc060",
   "metadata": {},
   "outputs": [
    {
     "name": "stderr",
     "output_type": "stream",
     "text": [
      "WARNING (theano.tensor.blas): Using NumPy C-API based implementation for BLAS functions.\n"
     ]
    }
   ],
   "source": [
    "import numpy as np\n",
    "import matplotlib.pyplot as plt\n",
    "from matplotlib.pyplot import figure\n",
    "import os\n",
    "from PIL import Image\n",
    "import arviz as az\n",
    "from tools import img_slice\n",
    "from Horseshoe_img_comp import Horseshoe_img_comp\n",
    "import pickle\n",
    "from matplotlib.pyplot import figure"
   ]
  },
  {
   "cell_type": "markdown",
   "id": "0fa6abf8-a542-410c-9011-f2cdb790775d",
   "metadata": {},
   "source": [
    "# Image compression via the Horseshoe"
   ]
  },
  {
   "cell_type": "markdown",
   "id": "9787e354-f1df-4758-996e-fa689b406552",
   "metadata": {},
   "source": [
    "In this example, we will compress an image using a jpeg-inspired process. The steps are the following:  \n",
    "\n",
    "- First slice the image in 5 x 5 blocks, in a jpeg fashion. Empirically, this block size seemed to be a good tradeoff as MCMC computations get slower with increasing block sizes. Having a small block size also puts more weight on the prior, since as a regression problem the block size can be considered as the number of observations. Therefore, it ensures sparse results. The block size is denoted by $D = 5$.  \n",
    "\n",
    "- Then, the mean component is dealt with appart. Indeed, the mean component being often higher than others in real-world images, we noticed that keeping it often yielded results that were \"too sparse\" (the output coefficients were mostly zero except for the mean component). For a single block:  \n",
    "    - Let $y_{flat}$ be a flattened block\n",
    "    - $y_{AC} = y_{flat} - \\text{mean}(y_{flat})\\mathbb{1}_{D^2}$\n",
    "    - Then, let us remove the first line of the intensity basis matrix $\\Psi$ (which corresponds to the mean component). This gives $\\Psi_{1:}$.\n",
    "    - Find a pseudo-sparse vector $\\theta$ of size $D^2 - 1$ which approximately solves: $y_{AC} = \\theta^T \\Psi_{1:}$. This is achieved via the Horseshoe.  \n",
    "    - Put less significant values of $\\theta$ to 0 to build $\\theta_{sparse}$. For instance, keep the 5 most significant ones.\n",
    "    - Finally: $y_{flat}^{comp} = \\theta_{sparse}^T \\Psi_{1:} + \\text{mean}(y_{flat})\\mathbb{1}_{D^2}$  \n",
    "    \n",
    "<br/>\n",
    "\n",
    "- Putting the blocks together forms the compressed image. One only needs to store the non-zero components of the $\\theta$ of every block instead of its 5 x 5 values. As in a usual Jpeg process, one could then entropy-encode these coefficients."
   ]
  },
  {
   "cell_type": "code",
   "execution_count": 2,
   "id": "a5797785-ba5b-4001-9026-571ee8cca736",
   "metadata": {},
   "outputs": [],
   "source": [
    "block_size = 5 # e.g. 8 means that that 8 x 8 blocks will be considered like in jpeg."
   ]
  },
  {
   "cell_type": "markdown",
   "id": "02527179-fe0e-431c-8d15-ff8c2335fa8e",
   "metadata": {},
   "source": [
    "## Building an intensity basis matrix"
   ]
  },
  {
   "cell_type": "markdown",
   "id": "7d682a3e-5754-4640-8371-79aae4858b7a",
   "metadata": {},
   "source": [
    "Using inverse DCT, let us first built a basis of matrices that we can then use to create any block of intensity $\\in$ [0, 255]."
   ]
  },
  {
   "cell_type": "code",
   "execution_count": 3,
   "id": "e5d987e6-2aef-47ca-8410-4eda24aaf7d6",
   "metadata": {},
   "outputs": [
    {
     "data": {
      "image/png": "[encoded data removed]",
      "text/plain": [
       "<Figure size 576x576 with 25 Axes>"
      ]
     },
     "metadata": {
      "needs_background": "light"
     },
     "output_type": "display_data"
    }
   ],
   "source": [
    "hic = Horseshoe_img_comp(block_size)\n",
    "hic.display_intensity_basis()"
   ]
  },
  {
   "cell_type": "markdown",
   "id": "549aed06-1814-4aaa-a3cf-b18510e39598",
   "metadata": {},
   "source": [
    "This basis is made so that any 5 x 5 block of integers $\\in$ [0, 255] can be described as linear combination of these basis blocks."
   ]
  },
  {
   "cell_type": "markdown",
   "id": "7cb2ccb4-04dc-4b96-b58f-72fd703bd157",
   "metadata": {},
   "source": [
    "Let us write this basis as a matrix by flattening every of these basis blocks and putting them as lines of a 25 x 25 matrix:"
   ]
  },
  {
   "cell_type": "code",
   "execution_count": 4,
   "id": "1a91284a-3138-47d2-8654-26d227986c2d",
   "metadata": {},
   "outputs": [
    {
     "data": {
      "text/plain": [
       "[]"
      ]
     },
     "execution_count": 4,
     "metadata": {},
     "output_type": "execute_result"
    },
    {
     "data": {
      "image/png": "[encoded data removed]",
      "text/plain": [
       "<Figure size 432x288 with 1 Axes>"
      ]
     },
     "metadata": {
      "needs_background": "light"
     },
     "output_type": "display_data"
    }
   ],
   "source": [
    "intensity_basis = hic.compute_basis_intensity_matrix()\n",
    "plt.imshow(intensity_basis, cmap = \"gray\", vmin=0, vmax=255)\n",
    "plt.title(\"Basis matrix Psi\")\n",
    "plt.plot()"
   ]
  },
  {
   "cell_type": "markdown",
   "id": "d3681147-b996-400f-acd9-85cda3354e01",
   "metadata": {},
   "source": [
    "Let $y$ be an image, and $y_{flat}$ its flattened version. Let $\\theta$ represent some unknown coefficients (1D vector, same size as $y_{flat}$).   \n",
    "$y_{flat}$ can be written:   \n",
    "$y_{flat}$ = $\\theta^T \\Psi$  \n",
    "\n",
    "With $\\Psi$ the Basis matrix we have just defined."
   ]
  },
  {
   "cell_type": "markdown",
   "id": "075759de-5b4c-4c08-ad00-1261e72df555",
   "metadata": {},
   "source": [
    "Let us remove the first line of $\\Psi$, the mean component. It will be dealt with apart."
   ]
  },
  {
   "cell_type": "code",
   "execution_count": 5,
   "id": "43e61759-99f8-4a12-a661-a41579aed9c7",
   "metadata": {},
   "outputs": [],
   "source": [
    "intensity_basis = intensity_basis[1:] # The average component (the first one) is dealt with apart"
   ]
  },
  {
   "cell_type": "markdown",
   "id": "9177c9e6-5b70-44f8-8e34-b3f9f86f45e2",
   "metadata": {},
   "source": [
    "## Image compression"
   ]
  },
  {
   "cell_type": "markdown",
   "id": "540b6995-5224-43c8-993a-a5f915ce1362",
   "metadata": {},
   "source": [
    "Let us import an image from the UCID dataset (uncompressed images in TIFF format), and slice it in 5 x 5 blocks."
   ]
  },
  {
   "cell_type": "code",
   "execution_count": 6,
   "id": "af234d71-4e8e-4b12-bbe3-5ed4adf9c1b1",
   "metadata": {},
   "outputs": [
    {
     "name": "stdout",
     "output_type": "stream",
     "text": [
      "(35, 35)\n"
     ]
    }
   ],
   "source": [
    "tif_pil = Image.open('images/ucid00652_small.tif').convert('L') # Greyscale image\n",
    "tif_arr = np.array(tif_pil)\n",
    "dim_x, dim_y = tif_arr.shape\n",
    "tif_arr = tif_arr[:dim_x - dim_x % 5,:dim_y - dim_y % 5] # Making sure the image has dimensions multiples of block_size\n",
    "print(tif_arr.shape)"
   ]
  },
  {
   "cell_type": "code",
   "execution_count": 16,
   "id": "b4bee1fb-0df8-488f-99d4-04ed73b0ca6b",
   "metadata": {},
   "outputs": [
    {
     "data": {
      "image/png": "[encoded data removed]",
      "text/plain": [
       "<Figure size 432x288 with 1 Axes>"
      ]
     },
     "metadata": {
      "needs_background": "light"
     },
     "output_type": "display_data"
    }
   ],
   "source": [
    "plt.imshow(tif_arr, cmap=\"gray\", vmin=0, vmax=255)\n",
    "plt.title(\"Original image from the UCID \\nuncompressed images dataset.\")\n",
    "plt.show()"
   ]
  },
  {
   "cell_type": "code",
   "execution_count": 8,
   "id": "1d096e32-2d78-4496-b276-93c8047163d8",
   "metadata": {},
   "outputs": [],
   "source": [
    "height_in_blocks = int(tif_arr.shape[0] / block_size)\n",
    "width_in_blocks = int(tif_arr.shape[1] / block_size)"
   ]
  },
  {
   "cell_type": "markdown",
   "id": "2b271335-ec8a-4ec7-9514-6eff9d11d535",
   "metadata": {},
   "source": [
    "Slicing the image into 5 x 5 blocks:"
   ]
  },
  {
   "cell_type": "code",
   "execution_count": 9,
   "id": "376d30ef-0788-4d48-a48f-52ed14cf0dd6",
   "metadata": {},
   "outputs": [],
   "source": [
    "sliced_img = img_slice(tif_arr, 5)\n",
    "compressed_blocks = []\n",
    "all_coefs_save = []"
   ]
  },
  {
   "cell_type": "markdown",
   "id": "5602c08b-7d9c-44cb-8be8-24c7f507ba1f",
   "metadata": {},
   "source": [
    "Compression takes a lot of time. Therefore, it is computed line of blocks by line of blocks (so that we do not need to start over if an error occurs). Since pymc3 warning cannot be easily turned off, it affects the readability of the code. The file `Image_comp_computations.ipynb` includes these steps. Here, this file only loads the compressed blocks from saved pickle files."
   ]
  },
  {
   "cell_type": "code",
   "execution_count": 10,
   "id": "d0004dda-debf-45c6-a5f9-23ac6a8af85b",
   "metadata": {},
   "outputs": [],
   "source": [
    "### Loading compressed blocks from saved pickle files.\n",
    "compressed_blocks = []\n",
    "for line_nb in range(1,8):\n",
    "    with open(f\"saves/compressed_blocks_line{line_nb}.pckl\", \"rb\") as save_file:\n",
    "        p = pickle.Unpickler(save_file)\n",
    "        compressed_line = p.load()\n",
    "    compressed_blocks.append(np.hstack(compressed_line))"
   ]
  },
  {
   "cell_type": "code",
   "execution_count": 13,
   "id": "3cdd1141-d986-4ee3-9825-a75a8f61d748",
   "metadata": {},
   "outputs": [
    {
     "data": {
      "image/png": "[encoded data removed]",
      "text/plain": [
       "<Figure size 400x400 with 1 Axes>"
      ]
     },
     "metadata": {
      "needs_background": "light"
     },
     "output_type": "display_data"
    }
   ],
   "source": [
    "### Displaying the compressed image\n",
    "figure(figsize=(5, 5), dpi=80)\n",
    "compressed_img = np.vstack(compressed_blocks)\n",
    "\n",
    "plt.imshow(compressed_img, vmin=0, vmax=255, cmap=\"gray\")\n",
    "plt.title(\"Image compressed via the Horseshoe. \\nOnly 6 non-zero coefficients remain out of 25.\")\n",
    "plt.show()"
   ]
  },
  {
   "cell_type": "code",
   "execution_count": null,
   "id": "9af4fe99-ea0c-408b-8b3c-7c2e6724ed12",
   "metadata": {},
   "outputs": [],
   "source": []
  }
 ],
 "metadata": {
  "kernelspec": {
   "display_name": "Python 3 (ipykernel)",
   "language": "python",
   "name": "python3"
  },
  "language_info": {
   "codemirror_mode": {
    "name": "ipython",
    "version": 3
   },
   "file_extension": ".py",
   "mimetype": "text/x-python",
   "name": "python",
   "nbconvert_exporter": "python",
   "pygments_lexer": "ipython3",
   "version": "3.9.7"
  }
 },
 "nbformat": 4,
 "nbformat_minor": 5
}
